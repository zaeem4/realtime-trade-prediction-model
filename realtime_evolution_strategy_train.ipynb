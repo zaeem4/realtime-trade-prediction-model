{
  "cells": [
    {
      "cell_type": "markdown",
      "source": [
        "# Downloading yfinance data"
      ],
      "metadata": {
        "id": "sh-wg39cMXX0"
      }
    },
    {
      "cell_type": "code",
      "source": [
        "import yfinance as yf"
      ],
      "metadata": {
        "id": "Voimu11fYtMv"
      },
      "execution_count": null,
      "outputs": []
    },
    {
      "cell_type": "code",
      "source": [
        "!mkdir dataset"
      ],
      "metadata": {
        "id": "oyzTo7X7agd_"
      },
      "execution_count": null,
      "outputs": []
    },
    {
      "cell_type": "code",
      "source": [
        "dataList = [\"TSLA\", \"SPCE\", \"MARA\", \"AAPL\", \"GOOG\", \"AMZN\"]\n",
        "for x in dataList:\n",
        "  try:\n",
        "    data = yf.download(tickers=x,\n",
        "                            interval = \"1h\",       # trading interval\n",
        "                            period = \"2y\",         # time period\n",
        "                            prepost = False,       # download pre/post market hours data?\n",
        "                            repair = True )\n",
        "    data.to_csv(f\"dataset/{x}.csv\")\n",
        "  except:\n",
        "    print(f\"An exception occurred while {x}\")"
      ],
      "metadata": {
        "id": "tx6TsFH4Y19Z"
      },
      "execution_count": null,
      "outputs": []
    },
    {
      "cell_type": "markdown",
      "source": [
        "# Initializing library"
      ],
      "metadata": {
        "id": "T7PUcofWUSCK"
      }
    },
    {
      "cell_type": "code",
      "execution_count": null,
      "metadata": {
        "id": "93if6s_pp1JQ"
      },
      "outputs": [],
      "source": [
        "from sklearn.preprocessing import MinMaxScaler\n",
        "import os\n",
        "import numpy as np\n",
        "import pandas as pd\n",
        "import time\n",
        "import random\n",
        "from datetime import datetime\n",
        "\n",
        "import matplotlib.pyplot as plt\n",
        "import seaborn as sns\n",
        "sns.set()"
      ]
    },
    {
      "cell_type": "code",
      "execution_count": null,
      "metadata": {
        "id": "Xlcc3DpBp1JV"
      },
      "outputs": [],
      "source": [
        "def softmax(z):\n",
        "    assert len(z.shape) == 2\n",
        "    s = np.max(z, axis=1)\n",
        "    s = s[:, np.newaxis]\n",
        "    e_x = np.exp(z - s)\n",
        "    div = np.sum(e_x, axis=1)\n",
        "    div = div[:, np.newaxis]\n",
        "    return e_x / div"
      ]
    },
    {
      "cell_type": "code",
      "execution_count": null,
      "metadata": {
        "id": "GxzgHQIBp1JY"
      },
      "outputs": [],
      "source": [
        "df = pd.read_csv(f'dataset/{dataList[0]}.csv')\n",
        "parameters = [df['Close'].tolist(), df['Volume'].tolist()]"
      ]
    },
    {
      "cell_type": "code",
      "execution_count": null,
      "metadata": {
        "id": "YrR-XzxRp1JY"
      },
      "outputs": [],
      "source": [
        "def get_state(parameters, t, window_size = 20):\n",
        "    outside = []\n",
        "    d = t - window_size + 1\n",
        "    for parameter in parameters:\n",
        "        block = (\n",
        "            parameter[d : t + 1]\n",
        "            if d >= 0\n",
        "            else -d * [parameter[0]] + parameter[0 : t + 1]\n",
        "        )\n",
        "        res = []\n",
        "        for i in range(window_size - 1):\n",
        "            res.append(block[i + 1] - block[i])\n",
        "        for i in range(1, window_size, 1):\n",
        "            res.append(block[i] - block[0])\n",
        "        outside.append(res)\n",
        "    return np.array(outside).reshape((1, -1))"
      ]
    },
    {
      "cell_type": "code",
      "execution_count": null,
      "metadata": {
        "id": "r-YrNIcxp1Jc"
      },
      "outputs": [],
      "source": [
        "inventory_size = 20\n",
        "mean_inventory = 0.5\n",
        "capital = 1\n",
        "concat_parameters = np.concatenate([get_state(parameters, 20), [[inventory_size,\n",
        "                                                                mean_inventory,\n",
        "                                                                capital]]], axis = 1)"
      ]
    },
    {
      "cell_type": "code",
      "execution_count": null,
      "metadata": {
        "id": "NUTP4qHcp1Jd"
      },
      "outputs": [],
      "source": [
        "input_size = concat_parameters.shape[1]\n",
        "input_size"
      ]
    },
    {
      "cell_type": "markdown",
      "source": [
        "# Initializing model"
      ],
      "metadata": {
        "id": "-1UX44KCUz7K"
      }
    },
    {
      "cell_type": "code",
      "execution_count": null,
      "metadata": {
        "id": "gMiEnma2p1Je"
      },
      "outputs": [],
      "source": [
        "class Deep_Evolution_Strategy:\n",
        "\n",
        "    inputs = None\n",
        "\n",
        "    def __init__(\n",
        "        self, weights, reward_function, population_size, sigma, learning_rate\n",
        "    ):\n",
        "        self.weights = weights\n",
        "        self.reward_function = reward_function\n",
        "        self.population_size = population_size\n",
        "        self.sigma = sigma\n",
        "        self.learning_rate = learning_rate\n",
        "\n",
        "    def _get_weight_from_population(self, weights, population):\n",
        "        weights_population = []\n",
        "        for index, i in enumerate(population):\n",
        "            jittered = self.sigma * i\n",
        "            weights_population.append(weights[index] + jittered)\n",
        "        return weights_population\n",
        "\n",
        "    def get_weights(self):\n",
        "        return self.weights\n",
        "\n",
        "    def train(self, epoch = 100, print_every = 1):\n",
        "        lasttime = time.time()\n",
        "        for i in range(epoch):\n",
        "            population = []\n",
        "            rewards = np.zeros(self.population_size)\n",
        "            for k in range(self.population_size):\n",
        "                x = []\n",
        "                for w in self.weights:\n",
        "                    x.append(np.random.randn(*w.shape))\n",
        "                population.append(x)\n",
        "            for k in range(self.population_size):\n",
        "                weights_population = self._get_weight_from_population(\n",
        "                    self.weights, population[k]\n",
        "                )\n",
        "                rewards[k] = self.reward_function(weights_population)\n",
        "            rewards = (rewards - np.mean(rewards)) / (np.std(rewards) + 1e-7)\n",
        "            for index, w in enumerate(self.weights):\n",
        "                A = np.array([p[index] for p in population])\n",
        "                self.weights[index] = (\n",
        "                    w\n",
        "                    + self.learning_rate\n",
        "                    / (self.population_size * self.sigma)\n",
        "                    * np.dot(A.T, rewards).T\n",
        "                )\n",
        "            if (i + 1) % print_every == 0:\n",
        "                print(\n",
        "                    'iter %d. reward: %f'\n",
        "                    % (i + 1, self.reward_function(self.weights))\n",
        "                )\n",
        "        print('time taken to train:', time.time() - lasttime, 'seconds')\n",
        "\n",
        "class Model:\n",
        "    def __init__(self, input_size, layer_size, output_size):\n",
        "        self.weights = [\n",
        "            np.random.rand(input_size, layer_size)\n",
        "            * np.sqrt(1 / (input_size + layer_size)),\n",
        "            np.random.rand(layer_size, output_size)\n",
        "            * np.sqrt(1 / (layer_size + output_size)),\n",
        "            np.zeros((1, layer_size)),\n",
        "            np.zeros((1, output_size)),\n",
        "        ]\n",
        "\n",
        "    def predict(self, inputs):\n",
        "        feed = np.dot(inputs, self.weights[0]) + self.weights[-2]\n",
        "        decision = np.dot(feed, self.weights[1]) + self.weights[-1]\n",
        "        return decision\n",
        "\n",
        "    def get_weights(self):\n",
        "        return self.weights\n",
        "\n",
        "    def set_weights(self, weights):\n",
        "        self.weights = weights"
      ]
    },
    {
      "cell_type": "markdown",
      "source": [
        "# Initializing Agent"
      ],
      "metadata": {
        "id": "niv0vbpaU7Kt"
      }
    },
    {
      "cell_type": "code",
      "execution_count": null,
      "metadata": {
        "id": "jIt4-xq-p1Jg"
      },
      "outputs": [],
      "source": [
        "class Agent:\n",
        "\n",
        "    POPULATION_SIZE = 15\n",
        "    SIGMA = 0.1\n",
        "    LEARNING_RATE = 0.03\n",
        "\n",
        "    def __init__(self, model, timeseries, skip, initial_money, real_trend, minmax):\n",
        "        self.model = model\n",
        "        self.timeseries = timeseries\n",
        "        self.skip = skip\n",
        "        self.real_trend = real_trend\n",
        "        self.initial_money = initial_money\n",
        "        self.es = Deep_Evolution_Strategy(\n",
        "            self.model.get_weights(),\n",
        "            self.get_reward,\n",
        "            self.POPULATION_SIZE,\n",
        "            self.SIGMA,\n",
        "            self.LEARNING_RATE,\n",
        "        )\n",
        "        self.minmax = minmax\n",
        "        self._initiate()\n",
        "\n",
        "    def _initiate(self):\n",
        "        # i assume first index is the close value\n",
        "        self.trend = self.timeseries[0]\n",
        "        self._mean = np.mean(self.trend)\n",
        "        self._std = np.std(self.trend)\n",
        "        self._inventory = []\n",
        "        self._capital = self.initial_money\n",
        "        self._queue = []\n",
        "        self._scaled_capital = self.minmax.transform([[self._capital, 2]])[0, 0]\n",
        "        print(\"=\"*150)\n",
        "        print(f\"printing sccaled capital: {self._scaled_capital}\")\n",
        "\n",
        "    def reset_capital(self, capital):\n",
        "        if capital:\n",
        "            self._capital = capital\n",
        "        self._scaled_capital = self.minmax.transform([[self._capital, 2]])[0, 0]\n",
        "        self._queue = []\n",
        "        self._inventory = []\n",
        "\n",
        "    def trade(self, data):\n",
        "        \"\"\"\n",
        "        you need to make sure the data is [close, volume]\n",
        "        \"\"\"\n",
        "        scaled_data = self.minmax.transform([data])[0]\n",
        "        real_close = data[0]\n",
        "        close = scaled_data[0]\n",
        "        if len(self._queue) >= window_size:\n",
        "            self._queue.pop(0)\n",
        "        self._queue.append(scaled_data)\n",
        "        if len(self._queue) < window_size:\n",
        "            return {\n",
        "                'status': 'data not enough to trade',\n",
        "                'action': 'fail',\n",
        "                'balance': self._capital,\n",
        "                'timestamp': str(datetime.now()),\n",
        "            }\n",
        "        state = self.get_state(\n",
        "            window_size - 1,\n",
        "            self._inventory,\n",
        "            self._scaled_capital,\n",
        "            timeseries = np.array(self._queue).T.tolist(),\n",
        "        )\n",
        "        action, prob = self.act_softmax(state)\n",
        "        print(prob)\n",
        "        if action == 1 and self._scaled_capital >= close:\n",
        "            self._inventory.append(close)\n",
        "            self._scaled_capital -= close\n",
        "            self._capital -= real_close\n",
        "            return {\n",
        "                'status': 'buy 1 unit, cost %f' % (real_close),\n",
        "                'action': 'buy',\n",
        "                'balance': self._capital,\n",
        "                'timestamp': str(datetime.now()),\n",
        "            }\n",
        "        elif action == 2 and len(self._inventory):\n",
        "            bought_price = self._inventory.pop(0)\n",
        "            self._scaled_capital += close\n",
        "            self._capital += real_close\n",
        "            scaled_bought_price = self.minmax.inverse_transform(\n",
        "                [[bought_price, 2]]\n",
        "            )[0, 0]\n",
        "            try:\n",
        "                invest = (\n",
        "                    (real_close - scaled_bought_price) / scaled_bought_price\n",
        "                ) * 100\n",
        "            except:\n",
        "                invest = 0\n",
        "            return {\n",
        "                'status': 'sell 1 unit, price %f' % (real_close),\n",
        "                'investment': invest,\n",
        "                'gain': real_close - scaled_bought_price,\n",
        "                'balance': self._capital,\n",
        "                'action': 'sell',\n",
        "                'timestamp': str(datetime.now()),\n",
        "            }\n",
        "        else:\n",
        "            return {\n",
        "                'status': 'do nothing',\n",
        "                'action': 'nothing',\n",
        "                'balance': self._capital,\n",
        "                'timestamp': str(datetime.now()),\n",
        "            }\n",
        "\n",
        "    def change_data(self, timeseries, skip, initial_money, real_trend, minmax):\n",
        "        self.timeseries = timeseries\n",
        "        self.skip = skip\n",
        "        self.initial_money = initial_money\n",
        "        self.real_trend = real_trend\n",
        "        self.minmax = minmax\n",
        "        self._initiate()\n",
        "\n",
        "    def act(self, sequence):\n",
        "        decision = self.model.predict(np.array(sequence))\n",
        "\n",
        "        return np.argmax(decision[0])\n",
        "\n",
        "    def act_softmax(self, sequence):\n",
        "        decision = self.model.predict(np.array(sequence))\n",
        "\n",
        "        return np.argmax(decision[0]), softmax(decision)[0]\n",
        "\n",
        "    def get_state(self, t, inventory, capital, timeseries):\n",
        "        state = get_state(timeseries, t)\n",
        "        len_inventory = len(inventory)\n",
        "        if len_inventory:\n",
        "            mean_inventory = np.mean(inventory)\n",
        "        else:\n",
        "            mean_inventory = 0\n",
        "        z_inventory = (mean_inventory - self._mean) / self._std\n",
        "        z_capital = (capital - self._mean) / self._std\n",
        "        concat_parameters = np.concatenate(\n",
        "            [state, [[len_inventory, z_inventory, z_capital]]], axis = 1\n",
        "        )\n",
        "        return concat_parameters\n",
        "\n",
        "    def get_reward(self, weights):\n",
        "        initial_money = self._scaled_capital\n",
        "        starting_money = initial_money\n",
        "        invests = []\n",
        "        self.model.weights = weights\n",
        "        inventory = []\n",
        "        state = self.get_state(0, inventory, starting_money, self.timeseries)\n",
        "\n",
        "        for t in range(0, len(self.trend) - 1, self.skip):\n",
        "            action = self.act(state)\n",
        "            if action == 1 and starting_money >= self.trend[t]:\n",
        "                inventory.append(self.trend[t])\n",
        "                starting_money -= self.trend[t]\n",
        "\n",
        "            elif action == 2 and len(inventory):\n",
        "                bought_price = inventory.pop(0)\n",
        "                starting_money += self.trend[t]\n",
        "                invest = ((self.trend[t] - bought_price) / bought_price) * 100\n",
        "                invests.append(invest)\n",
        "\n",
        "            state = self.get_state(\n",
        "                t + 1, inventory, starting_money, self.timeseries\n",
        "            )\n",
        "        invests = np.mean(invests)\n",
        "        if np.isnan(invests):\n",
        "            invests = 0\n",
        "        score = (starting_money - initial_money) / initial_money * 100\n",
        "        return invests * 0.7 + score * 0.3\n",
        "\n",
        "    def fit(self, iterations, checkpoint):\n",
        "        self.es.train(iterations, print_every = checkpoint)\n",
        "\n",
        "    def buy(self):\n",
        "        initial_money = self._scaled_capital\n",
        "        starting_money = initial_money\n",
        "\n",
        "\n",
        "        print(f\"dumping {initial_money}, {starting_money}\")\n",
        "\n",
        "        real_initial_money = self.initial_money\n",
        "        real_starting_money = self.initial_money\n",
        "        inventory = []\n",
        "        real_inventory = []\n",
        "        state = self.get_state(0, inventory, starting_money, self.timeseries)\n",
        "        states_sell = []\n",
        "        states_buy = []\n",
        "\n",
        "        for t in range(0, len(self.trend) - 1, self.skip):\n",
        "            action, prob = self.act_softmax(state)\n",
        "            print(t, prob)\n",
        "\n",
        "            if action == 1 and starting_money >= self.trend[t] and t < (len(self.trend) - 1 - window_size):\n",
        "                inventory.append(self.trend[t])\n",
        "                real_inventory.append(self.real_trend[t])\n",
        "                real_starting_money -= self.real_trend[t]\n",
        "                starting_money -= self.trend[t]\n",
        "                states_buy.append(t)\n",
        "                print(\n",
        "                    'day %d: buy 1 unit at price %f, total balance %f'\n",
        "                    % (t, self.real_trend[t], real_starting_money)\n",
        "                )\n",
        "\n",
        "            elif action == 2 and len(inventory):\n",
        "                bought_price = inventory.pop(0)\n",
        "                real_bought_price = real_inventory.pop(0)\n",
        "                starting_money += self.trend[t]\n",
        "                real_starting_money += self.real_trend[t]\n",
        "                states_sell.append(t)\n",
        "                try:\n",
        "                    invest = (\n",
        "                        (self.real_trend[t] - real_bought_price)\n",
        "                        / real_bought_price\n",
        "                    ) * 100\n",
        "                except:\n",
        "                    invest = 0\n",
        "                print(\n",
        "                    'day %d, sell 1 unit at price %f, investment %f %%, total balance %f,'\n",
        "                    % (t, self.real_trend[t], invest, real_starting_money)\n",
        "                )\n",
        "            state = self.get_state(\n",
        "                t + 1, inventory, starting_money, self.timeseries\n",
        "            )\n",
        "\n",
        "        invest = (\n",
        "            (real_starting_money - real_initial_money) / real_initial_money\n",
        "        ) * 100\n",
        "        total_gains = real_starting_money - real_initial_money\n",
        "        return states_buy, states_sell, total_gains, invest"
      ]
    },
    {
      "cell_type": "markdown",
      "source": [
        "# Reading csv file"
      ],
      "metadata": {
        "id": "Wgl9axhUVKPF"
      }
    },
    {
      "cell_type": "code",
      "execution_count": null,
      "metadata": {
        "id": "6ozd0ZX2p1Ji"
      },
      "outputs": [],
      "source": [
        "# stocks = [i for i in os.listdir(os.getcwd()) if '.csv' in i] # and not 'TWTR' in i #os.getcwd()\n",
        "stocks = [\"datset/TSLA\", \"datset/SPCE\", \"datset/MARA\", \"datset/AAPL\", \"datset/GOOG\", \"datset/AMZN\"]"
      ]
    },
    {
      "cell_type": "code",
      "execution_count": null,
      "metadata": {
        "id": "_9_ADhG1p1Jj"
      },
      "outputs": [],
      "source": [
        "skip = 1\n",
        "layer_size = 500\n",
        "output_size = 3\n",
        "window_size = 20"
      ]
    },
    {
      "cell_type": "markdown",
      "source": [
        "# Training"
      ],
      "metadata": {
        "id": "ypCMoafNVSMc"
      }
    },
    {
      "cell_type": "code",
      "execution_count": null,
      "metadata": {
        "id": "b6hYoApYp1Jk"
      },
      "outputs": [],
      "source": [
        "model = Model(input_size = input_size, layer_size = layer_size, output_size = output_size)\n",
        "agent = None\n",
        "investList=[500,1000,1500,2000]\n",
        "\n",
        "for no, stock in enumerate(stocks):\n",
        "    print('training stock %s'%(stock))\n",
        "    df = pd.read_csv(stock)\n",
        "    real_trend = df['Close'].tolist()\n",
        "    parameters = [df['Close'].tolist(), df['Volume'].tolist()]\n",
        "    minmax = MinMaxScaler(feature_range = (100, 200)).fit(np.array(parameters).T)\n",
        "    scaled_parameters = minmax.transform(np.array(parameters).T).T.tolist()\n",
        "    initial_money = np.max(parameters[0]) * 2\n",
        "\n",
        "    for invest in investList:\n",
        "\n",
        "      if no == 0:\n",
        "          agent = Agent(model = model,\n",
        "                        timeseries = scaled_parameters,\n",
        "                        skip = skip,\n",
        "                        initial_money = initial_money,\n",
        "                        real_trend = real_trend,\n",
        "                        minmax = minmax)\n",
        "      else:\n",
        "          agent.change_data(timeseries = scaled_parameters,\n",
        "                            skip = skip,\n",
        "                            initial_money = initial_money,\n",
        "                            real_trend = real_trend,\n",
        "                            minmax = minmax)\n",
        "\n",
        "      agent.fit(iterations = 100, checkpoint = 10)\n"
      ]
    },
    {
      "cell_type": "markdown",
      "source": [
        "# Saving dataset"
      ],
      "metadata": {
        "id": "qegqsQaZW8a-"
      }
    },
    {
      "cell_type": "code",
      "source": [
        "import copy\n",
        "import pickle\n",
        "\n",
        "copy_model = copy.deepcopy(agent.model)\n",
        "\n",
        "with open('model.pkl', 'wb') as fopen:\n",
        "    pickle.dump(copy_model, fopen)"
      ],
      "metadata": {
        "id": "VTdqvD7sW62_"
      },
      "execution_count": null,
      "outputs": []
    }
  ],
  "metadata": {
    "kernelspec": {
      "display_name": "Python 3",
      "name": "python3"
    },
    "language_info": {
      "codemirror_mode": {
        "name": "ipython",
        "version": 3
      },
      "file_extension": ".py",
      "mimetype": "text/x-python",
      "name": "python",
      "nbconvert_exporter": "python",
      "pygments_lexer": "ipython3",
      "version": "3.6.8"
    },
    "colab": {
      "provenance": [],
      "collapsed_sections": [
        "GigwCD4VMQsu"
      ],
      "gpuType": "T4"
    }
  },
  "nbformat": 4,
  "nbformat_minor": 0
}